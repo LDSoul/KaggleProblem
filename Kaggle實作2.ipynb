{
  "nbformat": 4,
  "nbformat_minor": 0,
  "metadata": {
    "colab": {
      "name": "Kaggle實作2.ipynb",
      "provenance": [],
      "collapsed_sections": [],
      "authorship_tag": "ABX9TyMqGqK3o9yqoTk19wsvdyV2",
      "include_colab_link": true
    },
    "kernelspec": {
      "name": "python3",
      "display_name": "Python 3"
    }
  },
  "cells": [
    {
      "cell_type": "markdown",
      "metadata": {
        "id": "view-in-github",
        "colab_type": "text"
      },
      "source": [
        "<a href=\"https://colab.research.google.com/github/LDSoul/KaggleProblem/blob/master/Kaggle%E5%AF%A6%E4%BD%9C2.ipynb\" target=\"_parent\"><img src=\"https://colab.research.google.com/assets/colab-badge.svg\" alt=\"Open In Colab\"/></a>"
      ]
    },
    {
      "cell_type": "code",
      "metadata": {
        "id": "JHEg_0Gu1FzM",
        "colab_type": "code",
        "colab": {
          "base_uri": "https://localhost:8080/",
          "height": 284
        },
        "outputId": "9f063ab1-1602-4de1-bddd-dc4487d6976c"
      },
      "source": [
        "import pandas as pd\n",
        "\n",
        "melbourne_file_path = '../AA.csv' #左測可新增資料 ../為指定Files的資料\n",
        "# read the data and store data in DataFrame titled melbourne_data\n",
        "melbourne_data = pd.read_csv(melbourne_file_path) \n",
        "# print a summary of the data in Melbourne data\n",
        "melbourne_data.describe()\n"
      ],
      "execution_count": null,
      "outputs": [
        {
          "output_type": "execute_result",
          "data": {
            "text/html": [
              "<div>\n",
              "<style scoped>\n",
              "    .dataframe tbody tr th:only-of-type {\n",
              "        vertical-align: middle;\n",
              "    }\n",
              "\n",
              "    .dataframe tbody tr th {\n",
              "        vertical-align: top;\n",
              "    }\n",
              "\n",
              "    .dataframe thead th {\n",
              "        text-align: right;\n",
              "    }\n",
              "</style>\n",
              "<table border=\"1\" class=\"dataframe\">\n",
              "  <thead>\n",
              "    <tr style=\"text-align: right;\">\n",
              "      <th></th>\n",
              "      <th>樣本數（人）</th>\n",
              "      <th>很滿意（%）</th>\n",
              "      <th>滿意（%）</th>\n",
              "      <th>普通（%）</th>\n",
              "    </tr>\n",
              "  </thead>\n",
              "  <tbody>\n",
              "    <tr>\n",
              "      <th>count</th>\n",
              "      <td>73.000000</td>\n",
              "      <td>73.000000</td>\n",
              "      <td>73.00000</td>\n",
              "      <td>73.000000</td>\n",
              "    </tr>\n",
              "    <tr>\n",
              "      <th>mean</th>\n",
              "      <td>666.876712</td>\n",
              "      <td>13.402740</td>\n",
              "      <td>55.99726</td>\n",
              "      <td>27.734247</td>\n",
              "    </tr>\n",
              "    <tr>\n",
              "      <th>std</th>\n",
              "      <td>735.616917</td>\n",
              "      <td>4.465329</td>\n",
              "      <td>5.05514</td>\n",
              "      <td>6.601351</td>\n",
              "    </tr>\n",
              "    <tr>\n",
              "      <th>min</th>\n",
              "      <td>15.000000</td>\n",
              "      <td>3.400000</td>\n",
              "      <td>33.90000</td>\n",
              "      <td>7.900000</td>\n",
              "    </tr>\n",
              "    <tr>\n",
              "      <th>25%</th>\n",
              "      <td>141.000000</td>\n",
              "      <td>11.300000</td>\n",
              "      <td>54.00000</td>\n",
              "      <td>26.100000</td>\n",
              "    </tr>\n",
              "    <tr>\n",
              "      <th>50%</th>\n",
              "      <td>384.000000</td>\n",
              "      <td>12.500000</td>\n",
              "      <td>55.60000</td>\n",
              "      <td>28.400000</td>\n",
              "    </tr>\n",
              "    <tr>\n",
              "      <th>75%</th>\n",
              "      <td>880.000000</td>\n",
              "      <td>14.800000</td>\n",
              "      <td>57.80000</td>\n",
              "      <td>30.600000</td>\n",
              "    </tr>\n",
              "    <tr>\n",
              "      <th>max</th>\n",
              "      <td>3691.000000</td>\n",
              "      <td>30.400000</td>\n",
              "      <td>68.80000</td>\n",
              "      <td>60.100000</td>\n",
              "    </tr>\n",
              "  </tbody>\n",
              "</table>\n",
              "</div>"
            ],
            "text/plain": [
              "            樣本數（人）     很滿意（%）     滿意（%）      普通（%）\n",
              "count    73.000000  73.000000  73.00000  73.000000\n",
              "mean    666.876712  13.402740  55.99726  27.734247\n",
              "std     735.616917   4.465329   5.05514   6.601351\n",
              "min      15.000000   3.400000  33.90000   7.900000\n",
              "25%     141.000000  11.300000  54.00000  26.100000\n",
              "50%     384.000000  12.500000  55.60000  28.400000\n",
              "75%     880.000000  14.800000  57.80000  30.600000\n",
              "max    3691.000000  30.400000  68.80000  60.100000"
            ]
          },
          "metadata": {
            "tags": []
          },
          "execution_count": 9
        }
      ]
    },
    {
      "cell_type": "code",
      "metadata": {
        "id": "WlOOcB0A3vTK",
        "colab_type": "code",
        "colab": {
          "base_uri": "https://localhost:8080/",
          "height": 185
        },
        "outputId": "8c90eb03-8ec7-4050-d1d8-18d7dc50ec7a"
      },
      "source": [
        "import pandas as pd\n",
        "\n",
        "melbourne_file_path = '../AA.csv'\n",
        "melbourne_data = pd.read_csv(melbourne_file_path)\n",
        "melbourne_data.columns #印出data.columns 列\n",
        "\n",
        "melbourne_data = melbourne_data.dropna(axis=0) #捨去空乏直?\n",
        "\n",
        "y = melbourne_data['滿意（%）']\n",
        "melbourne_features = ['很滿意（%）', '滿意（%）'] #選擇某行的資料\n",
        "X = melbourne_data[melbourne_features] #features 根據自己需要的資料來做分類\n",
        "X.describe()\n",
        "X.head()\n",
        "\n",
        "from sklearn.tree import DecisionTreeRegressor\n",
        "#使用利用 sklearn 中的決策樹來決定model使用方式，來耦合，耦合完畢將資料直接輸出\n",
        "\n",
        "# Define model. Specify a number for random_state to ensure same results each run\n",
        "melbourne_model = DecisionTreeRegressor(random_state=1)\n",
        "\n",
        "# Fit model\n",
        "melbourne_model.fit(X, y)\n",
        "\n",
        "print(\"X.head:\")\n",
        "print(X.head()) #對feature選需要的資料後 進行輸出\n",
        "print(\"model.fit(X,y):\")\n",
        "print(melbourne_model.predict(X.head()))\n",
        "\n",
        "from sklearn.metrics import mean_absolute_error\n",
        "\n",
        "predicted_home_prices = melbourne_model.predict(X)\n",
        "mean_absolute_error(y, predicted_home_prices)\n",
        "\n",
        "from sklearn.model_selection import train_test_split\n",
        "\n",
        "# split data into training and validation data, for both features and target\n",
        "# The split is based on a random number generator. Supplying a numeric value to\n",
        "# the random_state argument guarantees we get the same split every time we\n",
        "# run this script.\n",
        "train_X, val_X, train_y, val_y = train_test_split(X, y, random_state = 0)\n",
        "# Define model\n",
        "melbourne_model = DecisionTreeRegressor()\n",
        "# Fit model\n",
        "melbourne_model.fit(train_X, train_y)\n",
        "\n",
        "# get predicted prices on validation data\n",
        "val_predictions = melbourne_model.predict(val_X)\n",
        "print(mean_absolute_error(val_y, val_predictions))\n"
      ],
      "execution_count": null,
      "outputs": [
        {
          "output_type": "stream",
          "text": [
            "X.head:\n",
            "   很滿意（%）  滿意（%）\n",
            "0    12.5   54.0\n",
            "1    11.8   57.2\n",
            "2    15.7   49.8\n",
            "3    11.0   55.5\n",
            "4    10.5   54.6\n",
            "model.fit(X,y):\n",
            "[54.  57.2 49.8 55.5 54.6]\n",
            "0.8684210526315782\n"
          ],
          "name": "stdout"
        }
      ]
    },
    {
      "cell_type": "markdown",
      "metadata": {
        "id": "EyLpwMsrP60Y",
        "colab_type": "text"
      },
      "source": [
        "=====以下新增predict運用範例"
      ]
    },
    {
      "cell_type": "code",
      "metadata": {
        "id": "j4Ie18VQAcQQ",
        "colab_type": "code",
        "colab": {
          "base_uri": "https://localhost:8080/",
          "height": 101
        },
        "outputId": "fd7daae9-656b-47f1-a005-0de8c7b65c9d"
      },
      "source": [
        "import numpy as np\n",
        "from sklearn.linear_model import LinearRegression\n",
        "\n",
        "#蛋糕店的 店面面積X 與 車站距離Y 預測分店單月銷量\n",
        "X = np.array([\n",
        "    [10, 80], [8, 0], [8, 200], [5, 200], [7, 300], [8, 230], [7, 40], [9, 0], [6, 330], [9, 180]\n",
        "])\n",
        "y = np.array([469, 366, 371, 208, 246, 297, 363, 436, 198, 364])\n",
        "\n",
        "lm = LinearRegression()\n",
        "lm.fit(X, y)\n",
        "\n",
        "# 印出係數\n",
        "#print(lm.coef_)\n",
        "#ANS:[41.51347826 -0.34088269]\n",
        "\n",
        "# 印出截距\n",
        "#print(lm.intercept_ )\n",
        "#ANS:5.32391638894836\n",
        "\n",
        "#利用複迴歸模型預測\n",
        "#可運用新店資訊預測單月銷售量\n",
        "# 新蛋糕店資料\n",
        "to_be_predicted = np.array([\n",
        "    [10, 110]\n",
        "])\n",
        "predicted_sales = lm.predict(to_be_predicted)\n",
        "\n",
        "# 預測新蛋糕店的單月銷量\n",
        "print(predicted_sales)\n",
        "\n",
        "# 複迴歸模型的績效（Performance）有\n",
        "# Mean squared error（MSE）、 R-squared 與 Adjusted R-squared\n",
        "# 模型績效\n",
        "mse = np.mean((lm.predict(X) - y) ** 2)\n",
        "r_squared = lm.score(X, y)\n",
        "adj_r_squared = r_squared - (1 - r_squared) * (X.shape[1] / (X.shape[0] - X.shape[1] - 1))\n",
        "\n",
        "# 印出模型績效\n",
        "print(mse)\n",
        "print(r_squared)\n",
        "print(adj_r_squared)\n",
        "\n",
        "# 複迴歸模型我們通常還會檢定變數的顯著性，以 P-value 是否小於 0.05（信心水準 95%）來判定。\n",
        "# 印出 p-value\n",
        "from sklearn.feature_selection import f_regression\n",
        "print(f_regression(X, y)[1])"
      ],
      "execution_count": null,
      "outputs": [
        {
          "output_type": "stream",
          "text": [
            "[442.96160353]\n",
            "417.3006119994701\n",
            "0.9452358526817111\n",
            "0.9295889534479143\n",
            "[0.00051435 0.00844837]\n"
          ],
          "name": "stdout"
        }
      ]
    },
    {
      "cell_type": "code",
      "metadata": {
        "id": "tA_AHyL19VqD",
        "colab_type": "code",
        "colab": {}
      },
      "source": [
        ""
      ],
      "execution_count": null,
      "outputs": []
    },
    {
      "cell_type": "code",
      "metadata": {
        "id": "SGqE8eMM7h7t",
        "colab_type": "code",
        "colab": {}
      },
      "source": [
        ""
      ],
      "execution_count": null,
      "outputs": []
    },
    {
      "cell_type": "code",
      "metadata": {
        "id": "4p_nhcUiACrE",
        "colab_type": "code",
        "colab": {}
      },
      "source": [
        ""
      ],
      "execution_count": null,
      "outputs": []
    }
  ]
}